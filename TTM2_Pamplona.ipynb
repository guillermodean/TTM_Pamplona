{
 "metadata": {
  "language_info": {
   "codemirror_mode": {
    "name": "ipython",
    "version": 3
   },
   "file_extension": ".py",
   "mimetype": "text/x-python",
   "name": "python",
   "nbconvert_exporter": "python",
   "pygments_lexer": "ipython3",
   "version": "3.9.0"
  },
  "orig_nbformat": 2,
  "kernelspec": {
   "name": "python390jvsc74a57bd0b8488343e509b415c98a857491a9b4c90395f9a45992da0bb6102fdf120e22ce",
   "display_name": "Python 3.9.0 32-bit"
  },
  "metadata": {
   "interpreter": {
    "hash": "b8488343e509b415c98a857491a9b4c90395f9a45992da0bb6102fdf120e22ce"
   }
  }
 },
 "nbformat": 4,
 "nbformat_minor": 2,
 "cells": [
  {
   "cell_type": "code",
   "execution_count": 50,
   "metadata": {},
   "outputs": [],
   "source": [
    "import pandas as pd\n",
    "import matplotlib.pyplot as plt\n",
    "import seaborn as sns\n",
    "import re\n",
    "from sklearn.preprocessing import   LabelEncoder\n",
    "from sklearn.linear_model import LogisticRegression"
   ]
  },
  {
   "cell_type": "code",
   "execution_count": 9,
   "metadata": {},
   "outputs": [],
   "source": [
    "df=pd.read_csv('data/Results_TTM.csv',sep=\";\",header=0)\n",
    "df=df.drop(columns=[\"Step status\",\"Current trend\",\"Torque rate min\",\"Torque rate max\",\"Torque rate trend\",\"CVILOGIX\",\"Identifier6\",\"Identifier7\",\"Identifier8\",\"Identifier9\",\"Identifier10\",\"Second transducer torque deviation\",\"Second transducer angle deviation\",\"Result type\",\"Pulse counter\",\"Angle offset\",\"AO torque rate\"])"
   ]
  },
  {
   "cell_type": "code",
   "execution_count": 11,
   "metadata": {},
   "outputs": [
    {
     "output_type": "stream",
     "name": "stdout",
     "text": [
      "<class 'pandas.core.frame.DataFrame'>\nRangeIndex: 400000 entries, 0 to 399999\nData columns (total 19 columns):\n #   Column         Non-Null Count   Dtype  \n---  ------         --------------   -----  \n 0   Result status  400000 non-null  object \n 1   Result number  400000 non-null  int64  \n 2   Time result    400000 non-null  object \n 3   Pset ID        399901 non-null  float64\n 4   Step ID        399901 non-null  float64\n 5   Error Code     22688 non-null   object \n 6   Torque min     399901 non-null  float64\n 7   Torque         400000 non-null  float64\n 8   Torque max     399901 non-null  float64\n 9   Angle min      399901 non-null  float64\n 10  Angle          400000 non-null  float64\n 11  Angle max      399901 non-null  float64\n 12  Pset name      399901 non-null  object \n 13  VIN            172013 non-null  object \n 14  Identifier1    172013 non-null  object \n 15  Identifier2    170608 non-null  object \n 16  Identifier3    168406 non-null  object \n 17  Identifier4    13920 non-null   object \n 18  Identifier5    12363 non-null   object \ndtypes: float64(8), int64(1), object(10)\nmemory usage: 42.7+ MB\n"
     ]
    }
   ],
   "source": [
    "df.info()"
   ]
  },
  {
   "cell_type": "code",
   "execution_count": 13,
   "metadata": {},
   "outputs": [],
   "source": [
    "df=df[['Result status','Result number','Time result','Pset ID','Step ID','Error Code', 'Torque min','Torque','Torque max','Angle min','Angle','Angle max','Pset name','VIN','Identifier1','Identifier2','Identifier3','Identifier4','Identifier5']]"
   ]
  },
  {
   "cell_type": "code",
   "execution_count": 15,
   "metadata": {},
   "outputs": [
    {
     "output_type": "stream",
     "name": "stdout",
     "text": [
      "<class 'pandas.core.frame.DataFrame'>\nRangeIndex: 400000 entries, 0 to 399999\nData columns (total 19 columns):\n #   Column         Non-Null Count   Dtype  \n---  ------         --------------   -----  \n 0   Result_status  400000 non-null  object \n 1   Result_number  400000 non-null  int64  \n 2   Time_result    400000 non-null  object \n 3   Pset_ID        399901 non-null  float64\n 4   Step_ID        399901 non-null  float64\n 5   Error Code     22688 non-null   object \n 6   Torque_min     399901 non-null  float64\n 7   Torque         400000 non-null  float64\n 8   Torque_max     399901 non-null  float64\n 9   Angle_min      399901 non-null  float64\n 10  Angle          400000 non-null  float64\n 11  Angle_max      399901 non-null  float64\n 12  Pset_name      399901 non-null  object \n 13  VIN            172013 non-null  object \n 14  Identifier1    172013 non-null  object \n 15  Identifier2    170608 non-null  object \n 16  Identifier3    168406 non-null  object \n 17  Identifier4    13920 non-null   object \n 18  Identifier5    12363 non-null   object \ndtypes: float64(8), int64(1), object(10)\nmemory usage: 42.7+ MB\n"
     ]
    }
   ],
   "source": [
    "df.info()"
   ]
  },
  {
   "cell_type": "code",
   "execution_count": 17,
   "metadata": {},
   "outputs": [],
   "source": [
    "df=df.rename(columns={\"Result status\":\"Result_status\",\"Result number\":\"Result_number\",\"Pset ID\":\"Pset_ID\",\"Step ID\":\"Step_ID\",\"Torque min\":\"Torque_min\",\"Torque max\":\"Torque_max\",\"Angle min\":\"Angle_min\",\"Angle max\":\"Angle_max\",\"Pset name\":\"Pset_name\",'Error code':'Error_code','Result_status':'Result_status','Time result':'Time_result'})\n"
   ]
  },
  {
   "cell_type": "code",
   "execution_count": null,
   "metadata": {},
   "outputs": [],
   "source": [
    "df = df[~df[\"Pset_name\"].str.contains(\"Poka\",na=False)]"
   ]
  },
  {
   "cell_type": "code",
   "execution_count": 18,
   "metadata": {},
   "outputs": [
    {
     "output_type": "error",
     "ename": "TypeError",
     "evalue": "'Series' object is not callable",
     "traceback": [
      "\u001b[1;31m---------------------------------------------------------------------------\u001b[0m",
      "\u001b[1;31mTypeError\u001b[0m                                 Traceback (most recent call last)",
      "\u001b[1;32m<ipython-input-18-7e7d9f801ca3>\u001b[0m in \u001b[0;36m<module>\u001b[1;34m\u001b[0m\n\u001b[1;32m----> 1\u001b[1;33m \u001b[0mdf\u001b[0m\u001b[1;33m.\u001b[0m\u001b[0mastype\u001b[0m\u001b[1;33m(\u001b[0m\u001b[1;33m{\u001b[0m\u001b[1;34m'Time_result'\u001b[0m\u001b[1;33m:\u001b[0m \u001b[1;34m'datetime64[ns, US/Eastern]'\u001b[0m\u001b[1;33m}\u001b[0m\u001b[1;33m)\u001b[0m\u001b[1;33m.\u001b[0m\u001b[0mdtypes\u001b[0m\u001b[1;33m(\u001b[0m\u001b[1;33m)\u001b[0m\u001b[1;33m\u001b[0m\u001b[1;33m\u001b[0m\u001b[0m\n\u001b[0m",
      "\u001b[1;31mTypeError\u001b[0m: 'Series' object is not callable"
     ]
    }
   ],
   "source": [
    "df.astype({'Time_result': 'datetime64[ns, US/Eastern]'}).dtypes()"
   ]
  },
  {
   "cell_type": "code",
   "execution_count": 20,
   "metadata": {},
   "outputs": [],
   "source": [
    "df['Resultbin']=df['Result_status']=='OK'"
   ]
  },
  {
   "cell_type": "code",
   "execution_count": 21,
   "metadata": {},
   "outputs": [
    {
     "output_type": "stream",
     "name": "stdout",
     "text": [
      "<class 'pandas.core.frame.DataFrame'>\nInt64Index: 398943 entries, 0 to 399999\nData columns (total 20 columns):\n #   Column         Non-Null Count   Dtype  \n---  ------         --------------   -----  \n 0   Result_status  398943 non-null  object \n 1   Result_number  398943 non-null  int64  \n 2   Time_result    398943 non-null  object \n 3   Pset_ID        398844 non-null  float64\n 4   Step_ID        398844 non-null  float64\n 5   Error Code     21631 non-null   object \n 6   Torque_min     398844 non-null  float64\n 7   Torque         398943 non-null  float64\n 8   Torque_max     398844 non-null  float64\n 9   Angle_min      398844 non-null  float64\n 10  Angle          398943 non-null  float64\n 11  Angle_max      398844 non-null  float64\n 12  Pset_name      398844 non-null  object \n 13  VIN            172013 non-null  object \n 14  Identifier1    172013 non-null  object \n 15  Identifier2    170608 non-null  object \n 16  Identifier3    168406 non-null  object \n 17  Identifier4    13920 non-null   object \n 18  Identifier5    12363 non-null   object \n 19  Resultbin      398943 non-null  bool   \ndtypes: bool(1), float64(8), int64(1), object(10)\nmemory usage: 46.0+ MB\n"
     ]
    }
   ],
   "source": [
    "df.info()"
   ]
  },
  {
   "cell_type": "code",
   "execution_count": 44,
   "metadata": {},
   "outputs": [],
   "source": [
    "dfX=df.drop(columns={'Result_status','Result_number','Time_result','Pset_ID','Identifier4','Identifier5','Identifier2','Error Code','Torque','Angle'})"
   ]
  },
  {
   "cell_type": "code",
   "execution_count": 67,
   "metadata": {},
   "outputs": [
    {
     "output_type": "stream",
     "name": "stdout",
     "text": [
      "<class 'pandas.core.frame.DataFrame'>\nInt64Index: 168002 entries, 10 to 399996\nData columns (total 12 columns):\n #   Column         Non-Null Count   Dtype  \n---  ------         --------------   -----  \n 0   Step_ID        168002 non-null  float64\n 1   Torque_min     168002 non-null  float64\n 2   Torque_max     168002 non-null  float64\n 3   Angle_min      168002 non-null  float64\n 4   Angle_max      168002 non-null  float64\n 5   Pset_name      168002 non-null  object \n 6   VIN            168002 non-null  object \n 7   Identifier1    168002 non-null  object \n 8   Identifier3    168002 non-null  object \n 9   Resultbin      168002 non-null  bool   \n 10  Pset_name_cat  168002 non-null  int32  \n 11  Modelo         168002 non-null  int32  \ndtypes: bool(1), float64(5), int32(2), object(4)\nmemory usage: 11.7+ MB\n"
     ]
    }
   ],
   "source": [
    "dfX=dfX.dropna()\n",
    "dfX = dfX[pd.to_numeric(dfX['Identifier3'],errors='coerce').notna()]\n",
    "dfX.info()"
   ]
  },
  {
   "cell_type": "code",
   "execution_count": 68,
   "metadata": {},
   "outputs": [
    {
     "output_type": "error",
     "ename": "TypeError",
     "evalue": "Encoders require their input to be uniformly strings or numbers. Got ['float', 'str']",
     "traceback": [
      "\u001b[1;31m---------------------------------------------------------------------------\u001b[0m",
      "\u001b[1;31mTypeError\u001b[0m                                 Traceback (most recent call last)",
      "\u001b[1;32m~\\AppData\\Roaming\\Python\\Python39\\site-packages\\sklearn\\utils\\_encode.py\u001b[0m in \u001b[0;36m_unique_python\u001b[1;34m(values, return_inverse)\u001b[0m\n\u001b[0;32m    131\u001b[0m \u001b[1;33m\u001b[0m\u001b[0m\n\u001b[1;32m--> 132\u001b[1;33m         \u001b[0muniques\u001b[0m \u001b[1;33m=\u001b[0m \u001b[0msorted\u001b[0m\u001b[1;33m(\u001b[0m\u001b[0muniques_set\u001b[0m\u001b[1;33m)\u001b[0m\u001b[1;33m\u001b[0m\u001b[1;33m\u001b[0m\u001b[0m\n\u001b[0m\u001b[0;32m    133\u001b[0m         \u001b[0muniques\u001b[0m\u001b[1;33m.\u001b[0m\u001b[0mextend\u001b[0m\u001b[1;33m(\u001b[0m\u001b[0mmissing_values\u001b[0m\u001b[1;33m.\u001b[0m\u001b[0mto_list\u001b[0m\u001b[1;33m(\u001b[0m\u001b[1;33m)\u001b[0m\u001b[1;33m)\u001b[0m\u001b[1;33m\u001b[0m\u001b[1;33m\u001b[0m\u001b[0m\n",
      "\u001b[1;31mTypeError\u001b[0m: '<' not supported between instances of 'float' and 'str'",
      "\nDuring handling of the above exception, another exception occurred:\n",
      "\u001b[1;31mTypeError\u001b[0m                                 Traceback (most recent call last)",
      "\u001b[1;32m<ipython-input-68-a49bf8caf4c9>\u001b[0m in \u001b[0;36m<module>\u001b[1;34m\u001b[0m\n\u001b[0;32m      3\u001b[0m \u001b[0mdfX\u001b[0m\u001b[1;33m[\u001b[0m\u001b[1;34m'Pset_name_cat'\u001b[0m\u001b[1;33m]\u001b[0m \u001b[1;33m=\u001b[0m \u001b[0menc\u001b[0m\u001b[1;33m.\u001b[0m\u001b[0mfit_transform\u001b[0m\u001b[1;33m(\u001b[0m\u001b[0mdfX\u001b[0m\u001b[1;33m[\u001b[0m\u001b[1;34m'Pset_name'\u001b[0m\u001b[1;33m]\u001b[0m\u001b[1;33m)\u001b[0m\u001b[1;33m\u001b[0m\u001b[1;33m\u001b[0m\u001b[0m\n\u001b[0;32m      4\u001b[0m \u001b[0mdfX\u001b[0m\u001b[1;33m[\u001b[0m\u001b[1;34m'Modelo'\u001b[0m\u001b[1;33m]\u001b[0m \u001b[1;33m=\u001b[0m \u001b[0menc\u001b[0m\u001b[1;33m.\u001b[0m\u001b[0mfit_transform\u001b[0m\u001b[1;33m(\u001b[0m\u001b[0mdfX\u001b[0m\u001b[1;33m[\u001b[0m\u001b[1;34m'Identifier1'\u001b[0m\u001b[1;33m]\u001b[0m\u001b[1;33m)\u001b[0m\u001b[1;33m\u001b[0m\u001b[1;33m\u001b[0m\u001b[0m\n\u001b[1;32m----> 5\u001b[1;33m \u001b[0mdfX\u001b[0m\u001b[1;33m[\u001b[0m\u001b[1;34m'Identifier3_cat'\u001b[0m\u001b[1;33m]\u001b[0m \u001b[1;33m=\u001b[0m \u001b[0menc\u001b[0m\u001b[1;33m.\u001b[0m\u001b[0mfit_transform\u001b[0m\u001b[1;33m(\u001b[0m\u001b[0mdfX\u001b[0m\u001b[1;33m[\u001b[0m\u001b[1;34m'Identifier3'\u001b[0m\u001b[1;33m]\u001b[0m\u001b[1;33m)\u001b[0m\u001b[1;33m\u001b[0m\u001b[1;33m\u001b[0m\u001b[0m\n\u001b[0m",
      "\u001b[1;32m~\\AppData\\Roaming\\Python\\Python39\\site-packages\\sklearn\\preprocessing\\_label.py\u001b[0m in \u001b[0;36mfit_transform\u001b[1;34m(self, y)\u001b[0m\n\u001b[0;32m    115\u001b[0m         \"\"\"\n\u001b[0;32m    116\u001b[0m         \u001b[0my\u001b[0m \u001b[1;33m=\u001b[0m \u001b[0mcolumn_or_1d\u001b[0m\u001b[1;33m(\u001b[0m\u001b[0my\u001b[0m\u001b[1;33m,\u001b[0m \u001b[0mwarn\u001b[0m\u001b[1;33m=\u001b[0m\u001b[1;32mTrue\u001b[0m\u001b[1;33m)\u001b[0m\u001b[1;33m\u001b[0m\u001b[1;33m\u001b[0m\u001b[0m\n\u001b[1;32m--> 117\u001b[1;33m         \u001b[0mself\u001b[0m\u001b[1;33m.\u001b[0m\u001b[0mclasses_\u001b[0m\u001b[1;33m,\u001b[0m \u001b[0my\u001b[0m \u001b[1;33m=\u001b[0m \u001b[0m_unique\u001b[0m\u001b[1;33m(\u001b[0m\u001b[0my\u001b[0m\u001b[1;33m,\u001b[0m \u001b[0mreturn_inverse\u001b[0m\u001b[1;33m=\u001b[0m\u001b[1;32mTrue\u001b[0m\u001b[1;33m)\u001b[0m\u001b[1;33m\u001b[0m\u001b[1;33m\u001b[0m\u001b[0m\n\u001b[0m\u001b[0;32m    118\u001b[0m         \u001b[1;32mreturn\u001b[0m \u001b[0my\u001b[0m\u001b[1;33m\u001b[0m\u001b[1;33m\u001b[0m\u001b[0m\n\u001b[0;32m    119\u001b[0m \u001b[1;33m\u001b[0m\u001b[0m\n",
      "\u001b[1;32m~\\AppData\\Roaming\\Python\\Python39\\site-packages\\sklearn\\utils\\_encode.py\u001b[0m in \u001b[0;36m_unique\u001b[1;34m(values, return_inverse)\u001b[0m\n\u001b[0;32m     29\u001b[0m     \"\"\"\n\u001b[0;32m     30\u001b[0m     \u001b[1;32mif\u001b[0m \u001b[0mvalues\u001b[0m\u001b[1;33m.\u001b[0m\u001b[0mdtype\u001b[0m \u001b[1;33m==\u001b[0m \u001b[0mobject\u001b[0m\u001b[1;33m:\u001b[0m\u001b[1;33m\u001b[0m\u001b[1;33m\u001b[0m\u001b[0m\n\u001b[1;32m---> 31\u001b[1;33m         \u001b[1;32mreturn\u001b[0m \u001b[0m_unique_python\u001b[0m\u001b[1;33m(\u001b[0m\u001b[0mvalues\u001b[0m\u001b[1;33m,\u001b[0m \u001b[0mreturn_inverse\u001b[0m\u001b[1;33m=\u001b[0m\u001b[0mreturn_inverse\u001b[0m\u001b[1;33m)\u001b[0m\u001b[1;33m\u001b[0m\u001b[1;33m\u001b[0m\u001b[0m\n\u001b[0m\u001b[0;32m     32\u001b[0m     \u001b[1;31m# numerical\u001b[0m\u001b[1;33m\u001b[0m\u001b[1;33m\u001b[0m\u001b[1;33m\u001b[0m\u001b[0m\n\u001b[0;32m     33\u001b[0m     \u001b[0mout\u001b[0m \u001b[1;33m=\u001b[0m \u001b[0mnp\u001b[0m\u001b[1;33m.\u001b[0m\u001b[0munique\u001b[0m\u001b[1;33m(\u001b[0m\u001b[0mvalues\u001b[0m\u001b[1;33m,\u001b[0m \u001b[0mreturn_inverse\u001b[0m\u001b[1;33m=\u001b[0m\u001b[0mreturn_inverse\u001b[0m\u001b[1;33m)\u001b[0m\u001b[1;33m\u001b[0m\u001b[1;33m\u001b[0m\u001b[0m\n",
      "\u001b[1;32m~\\AppData\\Roaming\\Python\\Python39\\site-packages\\sklearn\\utils\\_encode.py\u001b[0m in \u001b[0;36m_unique_python\u001b[1;34m(values, return_inverse)\u001b[0m\n\u001b[0;32m    136\u001b[0m         types = sorted(t.__qualname__\n\u001b[0;32m    137\u001b[0m                        for t in set(type(v) for v in values))\n\u001b[1;32m--> 138\u001b[1;33m         raise TypeError(\"Encoders require their input to be uniformly \"\n\u001b[0m\u001b[0;32m    139\u001b[0m                         f\"strings or numbers. Got {types}\")\n\u001b[0;32m    140\u001b[0m \u001b[1;33m\u001b[0m\u001b[0m\n",
      "\u001b[1;31mTypeError\u001b[0m: Encoders require their input to be uniformly strings or numbers. Got ['float', 'str']"
     ]
    }
   ],
   "source": [
    "enc=LabelEncoder()\n",
    "dfX['Identifier3'].astype('float')\n",
    "dfX['Pset_name_cat'] = enc.fit_transform(dfX['Pset_name'])\n",
    "dfX['Modelo'] = enc.fit_transform(dfX['Identifier1'])\n",
    "dfX['Identifier3_cat'] = enc.fit_transform(dfX['Identifier3'])"
   ]
  },
  {
   "cell_type": "code",
   "execution_count": 47,
   "metadata": {},
   "outputs": [
    {
     "output_type": "execute_result",
     "data": {
      "text/plain": [
       "0.05391998355654818"
      ]
     },
     "metadata": {},
     "execution_count": 47
    }
   ],
   "source": [
    "OKS = len(df[df[\"Result_status\"].str.contains(\"OK\",na=False)])\n",
    "NOKS=len(df[df[\"Result_status\"].str.contains(\"NOK\",na=False)])\n",
    "NOKS/OKS"
   ]
  },
  {
   "cell_type": "code",
   "execution_count": 70,
   "metadata": {},
   "outputs": [
    {
     "output_type": "execute_result",
     "data": {
      "text/plain": [
       "[(array([     0,      3,      4, ..., 167998, 167999, 168001]),\n",
       "  array([     1,      2,      6, ..., 167977, 167982, 168000])),\n",
       " (array([     0,      1,      2, ..., 167997, 168000, 168001]),\n",
       "  array([     3,     10,     11, ..., 167994, 167998, 167999])),\n",
       " (array([     1,      2,      3, ..., 167998, 167999, 168000]),\n",
       "  array([     0,      4,      5, ..., 167996, 167997, 168001]))]"
      ]
     },
     "metadata": {},
     "execution_count": 70
    }
   ],
   "source": [
    "from sklearn.model_selection import KFold\n",
    "kf = KFold(n_splits=3, shuffle=True)\n",
    "X=dfX.drop(columns={'Resultbin','Pset_name','VIN','Identifier1'}).values\n",
    "y=dfX[['Resultbin']]\n",
    "list(kf.split(X))"
   ]
  },
  {
   "cell_type": "code",
   "execution_count": 54,
   "metadata": {},
   "outputs": [
    {
     "output_type": "stream",
     "name": "stdout",
     "text": [
      "[     0      2      5 ... 168014 168019 168020] [     1      3      4 ... 168016 168017 168018]\n[     0      1      2 ... 168018 168019 168020] [     9     10     11 ... 168011 168012 168014]\n[     1      3      4 ... 168016 168017 168018] [     0      2      5 ... 168013 168019 168020]\n"
     ]
    }
   ],
   "source": [
    "for train,test in kf.split(X):\n",
    "    print (train,test)"
   ]
  },
  {
   "cell_type": "code",
   "execution_count": 71,
   "metadata": {},
   "outputs": [
    {
     "output_type": "stream",
     "name": "stderr",
     "text": [
      "C:\\Users\\guill\\AppData\\Roaming\\Python\\Python39\\site-packages\\sklearn\\utils\\validation.py:63: DataConversionWarning: A column-vector y was passed when a 1d array was expected. Please change the shape of y to (n_samples, ), for example using ravel().\n",
      "  return f(*args, **kwargs)\n",
      "C:\\Users\\guill\\AppData\\Roaming\\Python\\Python39\\site-packages\\sklearn\\linear_model\\_logistic.py:763: ConvergenceWarning: lbfgs failed to converge (status=1):\n",
      "STOP: TOTAL NO. of ITERATIONS REACHED LIMIT.\n",
      "\n",
      "Increase the number of iterations (max_iter) or scale the data as shown in:\n",
      "    https://scikit-learn.org/stable/modules/preprocessing.html\n",
      "Please also refer to the documentation for alternative solver options:\n",
      "    https://scikit-learn.org/stable/modules/linear_model.html#logistic-regression\n",
      "  n_iter_i = _check_optimize_result(\n"
     ]
    },
    {
     "output_type": "error",
     "ename": "NameError",
     "evalue": "name 'y_test' is not defined",
     "traceback": [
      "\u001b[1;31m---------------------------------------------------------------------------\u001b[0m",
      "\u001b[1;31mNameError\u001b[0m                                 Traceback (most recent call last)",
      "\u001b[1;32m<ipython-input-71-ba753b736cb3>\u001b[0m in \u001b[0;36m<module>\u001b[1;34m\u001b[0m\n\u001b[0;32m      1\u001b[0m \u001b[0mmodel\u001b[0m \u001b[1;33m=\u001b[0m \u001b[0mLogisticRegression\u001b[0m\u001b[1;33m(\u001b[0m\u001b[1;33m)\u001b[0m\u001b[1;33m\u001b[0m\u001b[1;33m\u001b[0m\u001b[0m\n\u001b[0;32m      2\u001b[0m \u001b[0mmodel\u001b[0m\u001b[1;33m.\u001b[0m\u001b[0mfit\u001b[0m\u001b[1;33m(\u001b[0m\u001b[0mX\u001b[0m\u001b[1;33m,\u001b[0m \u001b[0my\u001b[0m\u001b[1;33m)\u001b[0m\u001b[1;33m\u001b[0m\u001b[1;33m\u001b[0m\u001b[0m\n\u001b[1;32m----> 3\u001b[1;33m \u001b[1;33m(\u001b[0m\u001b[0mmodel\u001b[0m\u001b[1;33m.\u001b[0m\u001b[0mscore\u001b[0m\u001b[1;33m(\u001b[0m\u001b[0mX_test\u001b[0m\u001b[1;33m,\u001b[0m \u001b[0my_test\u001b[0m\u001b[1;33m)\u001b[0m\u001b[1;33m)\u001b[0m\u001b[1;33m\u001b[0m\u001b[1;33m\u001b[0m\u001b[0m\n\u001b[0m\u001b[0;32m      4\u001b[0m \u001b[0mprint\u001b[0m\u001b[1;33m(\u001b[0m\u001b[0mscores\u001b[0m\u001b[1;33m)\u001b[0m\u001b[1;33m\u001b[0m\u001b[1;33m\u001b[0m\u001b[0m\n",
      "\u001b[1;31mNameError\u001b[0m: name 'y_test' is not defined"
     ]
    }
   ],
   "source": [
    "model = LogisticRegression()\n",
    "model.fit(X, y)\n",
    "(model.score(X_test, y_test))\n",
    "print(scores)"
   ]
  },
  {
   "cell_type": "code",
   "execution_count": null,
   "metadata": {},
   "outputs": [],
   "source": []
  }
 ]
}